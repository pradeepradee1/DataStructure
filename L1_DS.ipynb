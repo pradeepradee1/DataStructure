{
 "cells": [
  {
   "cell_type": "markdown",
   "id": "55f528e0",
   "metadata": {},
   "source": [
    "# DataStructure"
   ]
  },
  {
   "cell_type": "markdown",
   "id": "86072c9e",
   "metadata": {},
   "source": [
    "## Data Structure is Containers or storage that is used for storing and organize data\n",
    "\n",
    "## It is way of  arranging data on a computer so that it can be accessed and updated efficiently"
   ]
  },
  {
   "cell_type": "code",
   "execution_count": null,
   "id": "c8195c9e",
   "metadata": {},
   "outputs": [],
   "source": []
  },
  {
   "cell_type": "markdown",
   "id": "cf432895",
   "metadata": {},
   "source": [
    "# Types of DS"
   ]
  },
  {
   "cell_type": "markdown",
   "id": "a410744b",
   "metadata": {},
   "source": [
    "# 1) Linear \n",
    "# 2) Non-Linear"
   ]
  },
  {
   "cell_type": "code",
   "execution_count": null,
   "id": "f9eee710",
   "metadata": {},
   "outputs": [],
   "source": []
  },
  {
   "cell_type": "markdown",
   "id": "14c50a4f",
   "metadata": {},
   "source": [
    "# Linear\n",
    "\n",
    "# 1.Array \n",
    "# 2.Stack\n",
    "# 3.Queue\n",
    "# 4.Linked List\n"
   ]
  },
  {
   "cell_type": "markdown",
   "id": "795f20c5",
   "metadata": {},
   "source": [
    "# Non-Linear\n",
    "# 1.Graph\n",
    "# 2.Tree\n",
    "# 3.Map"
   ]
  },
  {
   "cell_type": "code",
   "execution_count": null,
   "id": "3a8cc6f5",
   "metadata": {},
   "outputs": [],
   "source": []
  },
  {
   "cell_type": "markdown",
   "id": "e0183027",
   "metadata": {},
   "source": [
    "#  Difference Between Linear and Non - Linear"
   ]
  },
  {
   "cell_type": "markdown",
   "id": "3484426d",
   "metadata": {},
   "source": [
    "#   Linear -------------------------------------------------------------  Non Linear"
   ]
  },
  {
   "cell_type": "markdown",
   "id": "23f88080",
   "metadata": {},
   "source": [
    "# 1) Sequence order --------------------------------- 1) Non-sequence order\n",
    "# 2) Memory Utilization is not -------------------- 2) Memory Utilization is \n",
    "#      efficient -------------------------------------------- efficient\n",
    "# 3) Time Complexity increase with ------------3) Time Complexity remains\n",
    "# the data size -----------------------------------------    same"
   ]
  },
  {
   "cell_type": "code",
   "execution_count": null,
   "id": "fbd1b812",
   "metadata": {},
   "outputs": [],
   "source": []
  }
 ],
 "metadata": {
  "kernelspec": {
   "display_name": "Python 3 (ipykernel)",
   "language": "python",
   "name": "python3"
  },
  "language_info": {
   "codemirror_mode": {
    "name": "ipython",
    "version": 3
   },
   "file_extension": ".py",
   "mimetype": "text/x-python",
   "name": "python",
   "nbconvert_exporter": "python",
   "pygments_lexer": "ipython3",
   "version": "3.8.10"
  }
 },
 "nbformat": 4,
 "nbformat_minor": 5
}

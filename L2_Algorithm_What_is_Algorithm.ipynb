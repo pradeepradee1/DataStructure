{
 "cells": [
  {
   "cell_type": "markdown",
   "id": "aa96f3fc",
   "metadata": {},
   "source": [
    "# Algorithm\n",
    "\n",
    "# Algorithm is a set of well defined instruction to solve a paricular problem\n",
    "# It takes a set of input and produces a desired output"
   ]
  },
  {
   "cell_type": "code",
   "execution_count": null,
   "id": "95c64655",
   "metadata": {},
   "outputs": [],
   "source": []
  },
  {
   "cell_type": "markdown",
   "id": "57f1e957",
   "metadata": {},
   "source": [
    "# Qualities of Algorithm\n",
    "\n",
    "# 1) Input and Output should be defined precisely\n",
    "# 2) Each step in the algorithm should be clear and unambigous\n",
    "# 3) Algorithm should be the most effective among many different ways to solve a problem"
   ]
  },
  {
   "cell_type": "code",
   "execution_count": null,
   "id": "924d68f8",
   "metadata": {},
   "outputs": [],
   "source": []
  }
 ],
 "metadata": {
  "kernelspec": {
   "display_name": "Python 3 (ipykernel)",
   "language": "python",
   "name": "python3"
  },
  "language_info": {
   "codemirror_mode": {
    "name": "ipython",
    "version": 3
   },
   "file_extension": ".py",
   "mimetype": "text/x-python",
   "name": "python",
   "nbconvert_exporter": "python",
   "pygments_lexer": "ipython3",
   "version": "3.8.10"
  }
 },
 "nbformat": 4,
 "nbformat_minor": 5
}

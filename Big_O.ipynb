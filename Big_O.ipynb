{
 "cells": [
  {
   "cell_type": "markdown",
   "id": "c4dd8447",
   "metadata": {},
   "source": [
    "#  Big O\n",
    "\n",
    "#  Big O Notation is a way to measure an algorithm's efficiency\n",
    "\n",
    "# measuring efficiency\n",
    "\n",
    "# 1) Time complexity\n",
    "# 2) space complexity\n",
    "\n",
    "\n",
    "#  It is used to measure running time Or Space requirements for my program grow  as input size grows\n",
    "\n",
    "\n"
   ]
  },
  {
   "cell_type": "code",
   "execution_count": null,
   "id": "9ecccb34",
   "metadata": {},
   "outputs": [],
   "source": []
  },
  {
   "cell_type": "markdown",
   "id": "75cf99ae",
   "metadata": {},
   "source": [
    "# O(N)"
   ]
  },
  {
   "cell_type": "code",
   "execution_count": 1,
   "id": "e0d73b19",
   "metadata": {},
   "outputs": [
    {
     "data": {
      "text/plain": [
       "[4, 25, 64, 81]"
      ]
     },
     "execution_count": 1,
     "metadata": {},
     "output_type": "execute_result"
    }
   ],
   "source": [
    "def get_squared_number(number):\n",
    "    squared_numbers = []\n",
    "    for n in numbers :\n",
    "        squared_numbers.append(n*n)\n",
    "    return squared_numbers\n",
    "\n",
    "\n",
    "numbers = [2,5,8,9]\n",
    "\n",
    "get_squared_number(numbers)"
   ]
  },
  {
   "cell_type": "markdown",
   "id": "c9492e6c",
   "metadata": {},
   "source": [
    "# O(1)"
   ]
  },
  {
   "cell_type": "code",
   "execution_count": 2,
   "id": "1615da5d",
   "metadata": {},
   "outputs": [],
   "source": [
    "def find_first_prices(prices , eps ,index):\n",
    "    pe = prices[index] / eps[index]\n",
    "    return pe\n"
   ]
  },
  {
   "cell_type": "markdown",
   "id": "5ccca848",
   "metadata": {},
   "source": [
    "# O(n**2)"
   ]
  },
  {
   "cell_type": "code",
   "execution_count": 8,
   "id": "26803117",
   "metadata": {},
   "outputs": [
    {
     "name": "stdout",
     "output_type": "stream",
     "text": [
      "3is a duplicate\n",
      "6is a duplicate\n"
     ]
    }
   ],
   "source": [
    "numbers = [3,6,2,4,3,6,8,9]\n",
    "for i in range(len(numbers)):\n",
    "    for j in range(i+1,len(numbers)):\n",
    "        if numbers[i] == numbers[j]:\n",
    "            print(str(numbers[i])+\"is a duplicate\")\n",
    "            break\n"
   ]
  },
  {
   "cell_type": "markdown",
   "id": "1645de35",
   "metadata": {},
   "source": [
    "# O(n ** 2) = O(n**2) + O(n) "
   ]
  },
  {
   "cell_type": "code",
   "execution_count": 9,
   "id": "81dd8f2e",
   "metadata": {},
   "outputs": [
    {
     "name": "stdout",
     "output_type": "stream",
     "text": [
      "1\n",
      "5\n"
     ]
    }
   ],
   "source": [
    "numbers = [3,6,2,4,3,6,8,9]\n",
    "for i in range(len(numbers)):\n",
    "    for j in range(i+1,len(numbers)):\n",
    "        if numbers[i] == numbers[j]:\n",
    "            duplicate=numbers[i]\n",
    "            break\n",
    "\n",
    "for i in range(len(numbers)):\n",
    "    if numbers[i] == duplicate :\n",
    "        print(i)"
   ]
  },
  {
   "cell_type": "markdown",
   "id": "d0548462",
   "metadata": {},
   "source": [
    "# Example : Time Complexity"
   ]
  },
  {
   "cell_type": "markdown",
   "id": "fac9dd24",
   "metadata": {},
   "source": [
    "## n=1000\n",
    "## time = (a * n ** 2 ) + (b * n) + c\n",
    "## where\n",
    "## n =  1000\n",
    "## therefore\n",
    "## (5 * 1000 ** 2) + (3 * 1000) + 20\n",
    "## 5,000,000 + 3020\n",
    "## 5,000,000 --- > Time"
   ]
  },
  {
   "cell_type": "code",
   "execution_count": null,
   "id": "bd6a4203",
   "metadata": {},
   "outputs": [],
   "source": []
  },
  {
   "cell_type": "markdown",
   "id": "5237b613",
   "metadata": {},
   "source": [
    "# O (log n)"
   ]
  },
  {
   "cell_type": "code",
   "execution_count": 16,
   "id": "afb9ba68",
   "metadata": {},
   "outputs": [],
   "source": [
    "a=[4,9,15,21,34,57,68,91]\n",
    "# Binary Search Program should come here"
   ]
  },
  {
   "cell_type": "code",
   "execution_count": null,
   "id": "a41e8c41",
   "metadata": {},
   "outputs": [],
   "source": []
  }
 ],
 "metadata": {
  "kernelspec": {
   "display_name": "Python 3 (ipykernel)",
   "language": "python",
   "name": "python3"
  },
  "language_info": {
   "codemirror_mode": {
    "name": "ipython",
    "version": 3
   },
   "file_extension": ".py",
   "mimetype": "text/x-python",
   "name": "python",
   "nbconvert_exporter": "python",
   "pygments_lexer": "ipython3",
   "version": "3.8.10"
  }
 },
 "nbformat": 4,
 "nbformat_minor": 5
}
